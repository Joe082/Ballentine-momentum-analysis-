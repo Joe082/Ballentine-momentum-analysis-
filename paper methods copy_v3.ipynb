{
 "cells": [
  {
   "cell_type": "code",
   "execution_count": 15,
   "metadata": {},
   "outputs": [],
   "source": [
    "import pandas as pd\n",
    "import matplotlib.pyplot as plt\n",
    "import numpy as np"
   ]
  },
  {
   "cell_type": "code",
   "execution_count": 3,
   "metadata": {},
   "outputs": [],
   "source": [
    "df= pd.read_excel(\"R1G_R1V.xlsx\")"
   ]
  },
  {
   "cell_type": "markdown",
   "metadata": {},
   "source": [
    "slow and fast signal"
   ]
  },
  {
   "cell_type": "code",
   "execution_count": 4,
   "metadata": {},
   "outputs": [
    {
     "data": {
      "text/html": [
       "<div>\n",
       "<style scoped>\n",
       "    .dataframe tbody tr th:only-of-type {\n",
       "        vertical-align: middle;\n",
       "    }\n",
       "\n",
       "    .dataframe tbody tr th {\n",
       "        vertical-align: top;\n",
       "    }\n",
       "\n",
       "    .dataframe thead th {\n",
       "        text-align: right;\n",
       "    }\n",
       "</style>\n",
       "<table border=\"1\" class=\"dataframe\">\n",
       "  <thead>\n",
       "    <tr style=\"text-align: right;\">\n",
       "      <th></th>\n",
       "      <th>ratio</th>\n",
       "    </tr>\n",
       "    <tr>\n",
       "      <th>Date</th>\n",
       "      <th></th>\n",
       "    </tr>\n",
       "  </thead>\n",
       "  <tbody>\n",
       "    <tr>\n",
       "      <th>1991-01</th>\n",
       "      <td>0.994711</td>\n",
       "    </tr>\n",
       "    <tr>\n",
       "      <th>1991-02</th>\n",
       "      <td>1.014354</td>\n",
       "    </tr>\n",
       "    <tr>\n",
       "      <th>1991-03</th>\n",
       "      <td>1.031177</td>\n",
       "    </tr>\n",
       "    <tr>\n",
       "      <th>1991-04</th>\n",
       "      <td>1.048159</td>\n",
       "    </tr>\n",
       "    <tr>\n",
       "      <th>1991-05</th>\n",
       "      <td>1.042428</td>\n",
       "    </tr>\n",
       "    <tr>\n",
       "      <th>...</th>\n",
       "      <td>...</td>\n",
       "    </tr>\n",
       "    <tr>\n",
       "      <th>2023-08</th>\n",
       "      <td>1.245527</td>\n",
       "    </tr>\n",
       "    <tr>\n",
       "      <th>2023-09</th>\n",
       "      <td>1.262099</td>\n",
       "    </tr>\n",
       "    <tr>\n",
       "      <th>2023-10</th>\n",
       "      <td>1.291403</td>\n",
       "    </tr>\n",
       "    <tr>\n",
       "      <th>2023-11</th>\n",
       "      <td>1.329225</td>\n",
       "    </tr>\n",
       "    <tr>\n",
       "      <th>2023-12</th>\n",
       "      <td>1.315847</td>\n",
       "    </tr>\n",
       "  </tbody>\n",
       "</table>\n",
       "<p>396 rows × 1 columns</p>\n",
       "</div>"
      ],
      "text/plain": [
       "            ratio\n",
       "Date             \n",
       "1991-01  0.994711\n",
       "1991-02  1.014354\n",
       "1991-03  1.031177\n",
       "1991-04  1.048159\n",
       "1991-05  1.042428\n",
       "...           ...\n",
       "2023-08  1.245527\n",
       "2023-09  1.262099\n",
       "2023-10  1.291403\n",
       "2023-11  1.329225\n",
       "2023-12  1.315847\n",
       "\n",
       "[396 rows x 1 columns]"
      ]
     },
     "execution_count": 4,
     "metadata": {},
     "output_type": "execute_result"
    }
   ],
   "source": [
    "df['Date'] = pd.to_datetime(df['Date'])\n",
    "\n",
    "monthly_ratio = df.resample('M', on='Date')['ratio'].mean()\n",
    "monthly_ratio_pct_change = monthly_ratio.pct_change().dropna()\n",
    "\n",
    "\n",
    "lookback_fast = 3\n",
    "lookback_slow = 12\n",
    "\n",
    "fast_signal = monthly_ratio_pct_change.rolling(window=lookback_fast).mean().dropna()\n",
    "slow_signal = monthly_ratio_pct_change.rolling(window=lookback_slow).mean().dropna()\n",
    "\n",
    "monthly_ratio.index = monthly_ratio.index.to_period('M')\n",
    "fast_signal.index = fast_signal.index.to_period('M')\n",
    "slow_signal.index = slow_signal.index.to_period('M')\n",
    "\n",
    "# Now the indices of monthly_ratio, fast_signal, and slow_signal only contain year and month\n",
    "monthly_ratio, fast_signal, slow_signal\n",
    "\n",
    "monthly_ratio.to_frame()\n",
    "\n",
    "\n"
   ]
  },
  {
   "cell_type": "code",
   "execution_count": 5,
   "metadata": {},
   "outputs": [
    {
     "data": {
      "text/plain": [
       "Date\n",
       "1991-02-28    0.019747\n",
       "1991-03-31    0.016586\n",
       "1991-04-30    0.016469\n",
       "1991-05-31   -0.005468\n",
       "1991-06-30   -0.012955\n",
       "Freq: M, Name: ratio, dtype: float64"
      ]
     },
     "execution_count": 5,
     "metadata": {},
     "output_type": "execute_result"
    }
   ],
   "source": [
    "monthly_ratio_pct_change.head(5)"
   ]
  },
  {
   "cell_type": "code",
   "execution_count": 6,
   "metadata": {},
   "outputs": [
    {
     "data": {
      "text/html": [
       "<div>\n",
       "<style scoped>\n",
       "    .dataframe tbody tr th:only-of-type {\n",
       "        vertical-align: middle;\n",
       "    }\n",
       "\n",
       "    .dataframe tbody tr th {\n",
       "        vertical-align: top;\n",
       "    }\n",
       "\n",
       "    .dataframe thead th {\n",
       "        text-align: right;\n",
       "    }\n",
       "</style>\n",
       "<table border=\"1\" class=\"dataframe\">\n",
       "  <thead>\n",
       "    <tr style=\"text-align: right;\">\n",
       "      <th></th>\n",
       "      <th>Date</th>\n",
       "      <th>0</th>\n",
       "    </tr>\n",
       "  </thead>\n",
       "  <tbody>\n",
       "    <tr>\n",
       "      <th>0</th>\n",
       "      <td>1992-01</td>\n",
       "      <td>Bull</td>\n",
       "    </tr>\n",
       "    <tr>\n",
       "      <th>1</th>\n",
       "      <td>1992-02</td>\n",
       "      <td>Bull</td>\n",
       "    </tr>\n",
       "    <tr>\n",
       "      <th>2</th>\n",
       "      <td>1992-03</td>\n",
       "      <td>Correction</td>\n",
       "    </tr>\n",
       "    <tr>\n",
       "      <th>3</th>\n",
       "      <td>1992-04</td>\n",
       "      <td>Correction</td>\n",
       "    </tr>\n",
       "    <tr>\n",
       "      <th>4</th>\n",
       "      <td>1992-05</td>\n",
       "      <td>Bear</td>\n",
       "    </tr>\n",
       "  </tbody>\n",
       "</table>\n",
       "</div>"
      ],
      "text/plain": [
       "      Date           0\n",
       "0  1992-01        Bull\n",
       "1  1992-02        Bull\n",
       "2  1992-03  Correction\n",
       "3  1992-04  Correction\n",
       "4  1992-05        Bear"
      ]
     },
     "execution_count": 6,
     "metadata": {},
     "output_type": "execute_result"
    }
   ],
   "source": [
    "common_length = min(len(fast_signal), len(slow_signal))\n",
    "aligned_fast_signal = fast_signal[-common_length:]\n",
    "aligned_slow_signal = slow_signal[-common_length:]\n",
    "\n",
    "def classify_market_condition(slow, fast):\n",
    "    if slow >= 0 and fast >= 0:\n",
    "        return 'Bull'\n",
    "    elif slow >= 0 and fast < 0:\n",
    "        return 'Correction'\n",
    "    elif slow < 0 and fast < 0:\n",
    "        return 'Bear'\n",
    "    elif slow < 0 and fast >= 0:\n",
    "        return 'Rebound'\n",
    "    else:\n",
    "        return 'Undefined'\n",
    "    \n",
    "    \n",
    "market_conditions = pd.DataFrame({\n",
    "    'Slow Signal': aligned_slow_signal,\n",
    "    'Fast Signal': aligned_fast_signal\n",
    "}).apply(lambda row: classify_market_condition(row['Slow Signal'], row['Fast Signal']), axis=1)\n",
    "\n",
    "market_conditions_df= market_conditions.to_frame()\n",
    "market_conditions_df.reset_index(inplace=True)\n",
    "market_conditions_df.head()\n",
    "\n",
    "   "
   ]
  },
  {
   "cell_type": "code",
   "execution_count": 7,
   "metadata": {},
   "outputs": [
    {
     "data": {
      "text/html": [
       "<div>\n",
       "<style scoped>\n",
       "    .dataframe tbody tr th:only-of-type {\n",
       "        vertical-align: middle;\n",
       "    }\n",
       "\n",
       "    .dataframe tbody tr th {\n",
       "        vertical-align: top;\n",
       "    }\n",
       "\n",
       "    .dataframe thead th {\n",
       "        text-align: right;\n",
       "    }\n",
       "</style>\n",
       "<table border=\"1\" class=\"dataframe\">\n",
       "  <thead>\n",
       "    <tr style=\"text-align: right;\">\n",
       "      <th></th>\n",
       "      <th>Ratio</th>\n",
       "      <th>Fast Signal</th>\n",
       "      <th>Slow Signal</th>\n",
       "      <th>Market Condition</th>\n",
       "    </tr>\n",
       "    <tr>\n",
       "      <th>Date</th>\n",
       "      <th></th>\n",
       "      <th></th>\n",
       "      <th></th>\n",
       "      <th></th>\n",
       "    </tr>\n",
       "  </thead>\n",
       "  <tbody>\n",
       "    <tr>\n",
       "      <th>2023-08</th>\n",
       "      <td>1.245527</td>\n",
       "      <td>0.012905</td>\n",
       "      <td>0.006401</td>\n",
       "      <td>Bull</td>\n",
       "    </tr>\n",
       "    <tr>\n",
       "      <th>2023-09</th>\n",
       "      <td>1.262099</td>\n",
       "      <td>0.003069</td>\n",
       "      <td>0.009669</td>\n",
       "      <td>Bull</td>\n",
       "    </tr>\n",
       "    <tr>\n",
       "      <th>2023-10</th>\n",
       "      <td>1.291403</td>\n",
       "      <td>0.009883</td>\n",
       "      <td>0.013549</td>\n",
       "      <td>Bull</td>\n",
       "    </tr>\n",
       "    <tr>\n",
       "      <th>2023-11</th>\n",
       "      <td>1.329225</td>\n",
       "      <td>0.021937</td>\n",
       "      <td>0.019800</td>\n",
       "      <td>Bull</td>\n",
       "    </tr>\n",
       "    <tr>\n",
       "      <th>2023-12</th>\n",
       "      <td>1.315847</td>\n",
       "      <td>0.014147</td>\n",
       "      <td>0.019517</td>\n",
       "      <td>Bull</td>\n",
       "    </tr>\n",
       "  </tbody>\n",
       "</table>\n",
       "</div>"
      ],
      "text/plain": [
       "            Ratio  Fast Signal  Slow Signal Market Condition\n",
       "Date                                                        \n",
       "2023-08  1.245527     0.012905     0.006401             Bull\n",
       "2023-09  1.262099     0.003069     0.009669             Bull\n",
       "2023-10  1.291403     0.009883     0.013549             Bull\n",
       "2023-11  1.329225     0.021937     0.019800             Bull\n",
       "2023-12  1.315847     0.014147     0.019517             Bull"
      ]
     },
     "execution_count": 7,
     "metadata": {},
     "output_type": "execute_result"
    }
   ],
   "source": [
    "merged_df = pd.DataFrame({\n",
    "    'Ratio': monthly_ratio,\n",
    "    'Fast Signal': aligned_fast_signal,\n",
    "    'Slow Signal': aligned_slow_signal,\n",
    "    'Market Condition': market_conditions\n",
    "})\n",
    "\n",
    "merged_df.tail(5)\n"
   ]
  },
  {
   "cell_type": "code",
   "execution_count": 8,
   "metadata": {},
   "outputs": [
    {
     "data": {
      "image/png": "[encoded data removed]",
      "text/plain": [
       "<Figure size 640x480 with 1 Axes>"
      ]
     },
     "metadata": {},
     "output_type": "display_data"
    }
   ],
   "source": [
    "import matplotlib.pyplot as plt\n",
    "\n",
    "merged_df.index = merged_df.index.to_timestamp()\n",
    "\n",
    "plt.plot(merged_df.index, merged_df['Ratio'], color='black', label='Ratio')\n",
    "\n",
    "# Prepare colors for the market conditions\n",
    "market_conditions_colors = {'Bull': 'green', 'Bear': 'red', 'Correction': 'pink', 'Rebound': 'yellow'}\n",
    "\n",
    "# Plot each market condition\n",
    "for condition, color in market_conditions_colors.items():\n",
    "    # Filter the data for the current condition\n",
    "    condition_data = merged_df[merged_df['Market Condition'] == condition]\n",
    "    # Plot the data\n",
    "    plt.scatter(condition_data.index, condition_data['Ratio'], color=color, label=condition)\n",
    "\n",
    "plt.title('Monthly Ratio and Market Conditions')\n",
    "plt.xlabel('Date')\n",
    "plt.ylabel('Ratio')\n",
    "plt.legend()\n",
    "plt.grid(True)\n",
    "plt.xticks(rotation=45)  # Rotate dates for better visibility\n",
    "plt.tight_layout()  # Adjust layout to make room for the rotated date labels\n",
    "\n",
    "plt.show()"
   ]
  },
  {
   "cell_type": "markdown",
   "metadata": {},
   "source": [
    "hard to identify which is which, i should really ignore the correction and rebound "
   ]
  },
  {
   "cell_type": "code",
   "execution_count": 9,
   "metadata": {},
   "outputs": [],
   "source": [
    "df1= pd.read_excel(\"R1G_R1V.xlsx\")"
   ]
  },
  {
   "cell_type": "code",
   "execution_count": 10,
   "metadata": {},
   "outputs": [
    {
     "data": {
      "text/html": [
       "<div>\n",
       "<style scoped>\n",
       "    .dataframe tbody tr th:only-of-type {\n",
       "        vertical-align: middle;\n",
       "    }\n",
       "\n",
       "    .dataframe tbody tr th {\n",
       "        vertical-align: top;\n",
       "    }\n",
       "\n",
       "    .dataframe thead th {\n",
       "        text-align: right;\n",
       "    }\n",
       "</style>\n",
       "<table border=\"1\" class=\"dataframe\">\n",
       "  <thead>\n",
       "    <tr style=\"text-align: right;\">\n",
       "      <th></th>\n",
       "      <th>Date</th>\n",
       "      <th>R1G value</th>\n",
       "      <th>R1V value</th>\n",
       "      <th>0</th>\n",
       "    </tr>\n",
       "  </thead>\n",
       "  <tbody>\n",
       "    <tr>\n",
       "      <th>0</th>\n",
       "      <td>1992-01</td>\n",
       "      <td>140.265455</td>\n",
       "      <td>125.987727</td>\n",
       "      <td>Bull</td>\n",
       "    </tr>\n",
       "    <tr>\n",
       "      <th>1</th>\n",
       "      <td>1992-02</td>\n",
       "      <td>138.233684</td>\n",
       "      <td>127.437368</td>\n",
       "      <td>Bull</td>\n",
       "    </tr>\n",
       "    <tr>\n",
       "      <th>2</th>\n",
       "      <td>1992-03</td>\n",
       "      <td>135.758182</td>\n",
       "      <td>126.999091</td>\n",
       "      <td>Correction</td>\n",
       "    </tr>\n",
       "    <tr>\n",
       "      <th>3</th>\n",
       "      <td>1992-04</td>\n",
       "      <td>134.451905</td>\n",
       "      <td>127.499048</td>\n",
       "      <td>Correction</td>\n",
       "    </tr>\n",
       "    <tr>\n",
       "      <th>4</th>\n",
       "      <td>1992-05</td>\n",
       "      <td>135.535000</td>\n",
       "      <td>131.949500</td>\n",
       "      <td>Bear</td>\n",
       "    </tr>\n",
       "  </tbody>\n",
       "</table>\n",
       "</div>"
      ],
      "text/plain": [
       "      Date   R1G value   R1V value           0\n",
       "0  1992-01  140.265455  125.987727        Bull\n",
       "1  1992-02  138.233684  127.437368        Bull\n",
       "2  1992-03  135.758182  126.999091  Correction\n",
       "3  1992-04  134.451905  127.499048  Correction\n",
       "4  1992-05  135.535000  131.949500        Bear"
      ]
     },
     "execution_count": 10,
     "metadata": {},
     "output_type": "execute_result"
    }
   ],
   "source": [
    "df1['Date'] = df['Date'].dt.strftime('%Y-%m')\n",
    "monthly_avg = df1.groupby(\"Date\").agg({\"R1G value\": \"mean\", \"R1V value\": \"mean\"}).reset_index()\n",
    "monthly_avg['Date'] = pd.to_datetime(monthly_avg['Date']).dt.to_period('M')\n",
    "\n",
    "merged_df = pd.merge(monthly_avg, market_conditions_df, on='Date')\n",
    "merged_df.head(5)\n"
   ]
  },
  {
   "cell_type": "code",
   "execution_count": 11,
   "metadata": {},
   "outputs": [],
   "source": [
    "merged_df.to_csv(\"market_conditions.csv\", index=False)"
   ]
  },
  {
   "cell_type": "markdown",
   "metadata": {},
   "source": [
    "### baseline"
   ]
  },
  {
   "cell_type": "code",
   "execution_count": 12,
   "metadata": {},
   "outputs": [
    {
     "data": {
      "text/plain": [
       "202252.1111777841"
      ]
     },
     "execution_count": 12,
     "metadata": {},
     "output_type": "execute_result"
    }
   ],
   "source": [
    "# Initial investment details\n",
    "initial_investment = 10000  # Total initial investment\n",
    "investment_per_stock = initial_investment / 2  # Splitting investment equally\n",
    "\n",
    "# Getting the initial and final prices for R1G and R1V stocks\n",
    "initial_r1g_price = merged_df['R1G value'].iloc[0]\n",
    "final_r1g_price = merged_df['R1G value'].iloc[-1]\n",
    "\n",
    "initial_r1v_price = merged_df['R1V value'].iloc[0]\n",
    "final_r1v_price = merged_df['R1V value'].iloc[-1]\n",
    "\n",
    "# Calculating the amount of each stock bought initially\n",
    "r1g_stocks_bought = investment_per_stock / initial_r1g_price\n",
    "r1v_stocks_bought = investment_per_stock / initial_r1v_price\n",
    "\n",
    "# Calculating the final value of the investment\n",
    "final_r1g_value = r1g_stocks_bought * final_r1g_price\n",
    "final_r1v_value = r1v_stocks_bought * final_r1v_price\n",
    "\n",
    "final_investment_value = final_r1g_value + final_r1v_value\n",
    "\n",
    "# Displaying the calculated final investment value\n",
    "final_investment_value"
   ]
  },
  {
   "cell_type": "markdown",
   "metadata": {},
   "source": [
    "##### Maximum Drawdown Baseline"
   ]
  },
  {
   "cell_type": "code",
   "execution_count": 13,
   "metadata": {},
   "outputs": [
    {
     "data": {
      "text/plain": [
       "41290.49198668785"
      ]
     },
     "execution_count": 13,
     "metadata": {},
     "output_type": "execute_result"
    }
   ],
   "source": [
    "initial_investment = 10000  # Total initial investment\n",
    "investment_per_stock = initial_investment / 2  # Splitting investment equally\n",
    "# Initial and final prices for R1G and R1V stocks\n",
    "initial_r1g_price = merged_df['R1G value'].iloc[0]\n",
    "final_r1g_price = merged_df['R1G value'].iloc[-1]\n",
    "\n",
    "initial_r1v_price = merged_df['R1V value'].iloc[0]\n",
    "final_r1v_price = merged_df['R1V value'].iloc[-1]\n",
    "\n",
    "# Amount of each stock bought initially\n",
    "r1g_stocks_bought = investment_per_stock / initial_r1g_price\n",
    "r1v_stocks_bought = investment_per_stock / initial_r1v_price\n",
    "\n",
    "# Calculating daily portfolio values\n",
    "merged_df['Portfolio Value'] = (r1g_stocks_bought * merged_df['R1G value']) + (r1v_stocks_bought * merged_df['R1V value'])\n",
    "\n",
    "# Running maximum of the portfolio value\n",
    "merged_df['Max Portfolio Value'] = merged_df['Portfolio Value'].cummax()\n",
    "\n",
    "# Drawdown calculation\n",
    "merged_df['Drawdown'] = merged_df['Max Portfolio Value'] - merged_df['Portfolio Value']\n",
    "\n",
    "# Maximum Drawdown (MDD)\n",
    "mdd = merged_df['Drawdown'].max()\n",
    "\n",
    "mdd"
   ]
  },
  {
   "cell_type": "markdown",
   "metadata": {},
   "source": [
    "##### Sharpe Ratio\n",
    "3 month T-Bill: 5%"
   ]
  },
  {
   "cell_type": "code",
   "execution_count": 18,
   "metadata": {},
   "outputs": [],
   "source": [
    "def sharpe(returns,risk_free_rate):\n",
    "    average_return = np.mean(returns)\n",
    "\n",
    "    # Calculate the standard deviation of the portfolio's returns\n",
    "    std_dev = np.std(returns)\n",
    "\n",
    "    # Calculate the Sharpe Ratio\n",
    "    sharpe_ratio = (average_return - risk_free_rate) / std_dev\n",
    "\n",
    "    return sharpe_ratio\n"
   ]
  },
  {
   "cell_type": "code",
   "execution_count": 19,
   "metadata": {},
   "outputs": [],
   "source": [
    "merged_df[\"periodic_return\"] = merged_df[\"Portfolio Value\"].shift(1)\n",
    "merged_df[\"periodic_return\"] = (merged_df[\"Portfolio Value\"] / merged_df[\"periodic_return\"]) - 1\n",
    "merged_df[\"periodic_return\"].fillna(0, inplace=True)"
   ]
  },
  {
   "cell_type": "code",
   "execution_count": 20,
   "metadata": {},
   "outputs": [
    {
     "data": {
      "text/plain": [
       "-1.1364404303760336"
      ]
     },
     "execution_count": 20,
     "metadata": {},
     "output_type": "execute_result"
    }
   ],
   "source": [
    "baseline_sharpe = sharpe(merged_df[\"periodic_return\"],0.05)"
   ]
  },
  {
   "cell_type": "markdown",
   "metadata": {},
   "source": [
    "### strategy #1. ignoring correction and rebound phase"
   ]
  },
  {
   "cell_type": "code",
   "execution_count": 23,
   "metadata": {},
   "outputs": [
    {
     "data": {
      "text/plain": [
       "409820.4965480961"
      ]
     },
     "execution_count": 23,
     "metadata": {},
     "output_type": "execute_result"
    }
   ],
   "source": [
    "# # Starting conditions\n",
    "# initial_investment = 10000  # Total initial investment\n",
    "# current_cash = initial_investment  # Total cash available for investment\n",
    "# r1g_stocks = investment_per_stock / initial_r1g_price  # Initial amount of R1G stocks bought\n",
    "# r1v_stocks = investment_per_stock / initial_r1v_price  # Initial amount of R1V stocks bought\n",
    "\n",
    "# # Iterating through the dataset to apply the investment strategy\n",
    "# for index, row in merged_df.iterrows():\n",
    "#     market_condition = row[0]\n",
    "#     current_r1g_price = row['R1G value']\n",
    "#     current_r1v_price = row['R1V value']\n",
    "\n",
    "#     if market_condition == 'Bull':\n",
    "#         # Sell all R1V stocks and spend all money on R1G stock\n",
    "#         current_cash = r1v_stocks * current_r1v_price  # Selling R1V stocks\n",
    "#         r1v_stocks = 0  # No R1V stocks left after selling\n",
    "#         r1g_stocks += current_cash / current_r1g_price  # Buying R1G stocks with available cash\n",
    "\n",
    "#     elif market_condition == 'Bear':\n",
    "#         # Sell all R1G stocks and spend all money on R1V stock\n",
    "#         current_cash = r1g_stocks * current_r1g_price  # Selling R1G stocks\n",
    "#         r1g_stocks = 0  # No R1G stocks left after selling\n",
    "#         r1v_stocks += current_cash / current_r1v_price  # Buying R1V stocks with available cash\n",
    "\n",
    "#     # If the market condition is 'Correction' or 'Rebound', do nothing\n",
    "\n",
    "# # Calculating the final value of the investment after applying the strategy\n",
    "# final_r1g_value = r1g_stocks * final_r1g_price\n",
    "# final_r1v_value = r1v_stocks * final_r1v_price\n",
    "# final_investment_value_strategy_1 = final_r1g_value + final_r1v_value\n",
    "\n",
    "# # Displaying the calculated final investment value after applying the strategy\n",
    "# final_investment_value_strategy_1"
   ]
  },
  {
   "cell_type": "code",
   "execution_count": 21,
   "metadata": {},
   "outputs": [
    {
     "data": {
      "text/plain": [
       "409820.4965480961"
      ]
     },
     "execution_count": 21,
     "metadata": {},
     "output_type": "execute_result"
    }
   ],
   "source": [
    "initial_investment = 10000  # Total initial investment\n",
    "current_cash = initial_investment  # Total cash available for investment\n",
    "r1g_stocks = investment_per_stock / initial_r1g_price  # Initial amount of R1G stocks bought\n",
    "r1v_stocks = investment_per_stock / initial_r1v_price  # Initial amount of R1V stocks bought\n",
    "portfolio_values = []\n",
    "# Iterating through the dataset to apply the investment strategy\n",
    "for index, row in merged_df.iterrows():\n",
    "    market_condition = row[0]\n",
    "    current_r1g_price = row['R1G value']\n",
    "    current_r1v_price = row['R1V value']\n",
    "\n",
    "    if market_condition == 'Bull':\n",
    "        # Sell all R1V stocks and spend all money on R1G stock\n",
    "        current_cash = r1v_stocks * current_r1v_price  # Selling R1V stocks\n",
    "        r1v_stocks = 0  # No R1V stocks left after selling\n",
    "        r1g_stocks += current_cash / current_r1g_price  # Buying R1G stocks with available cash\n",
    "\n",
    "    elif market_condition == 'Bear':\n",
    "        # Sell all R1G stocks and spend all money on R1V stock\n",
    "        current_cash = r1g_stocks * current_r1g_price  # Selling R1G stocks\n",
    "        r1g_stocks = 0  # No R1G stocks left after selling\n",
    "        r1v_stocks += current_cash / current_r1v_price  # Buying R1V stocks with available cash\n",
    "\n",
    "    portfolio_value = (r1g_stocks * current_r1g_price) + (r1v_stocks * current_r1v_price)\n",
    "    portfolio_values.append(portfolio_value)\n",
    "\n",
    "\n",
    "# Calculating the final value of the investment after applying the strategy\n",
    "final_r1g_value = r1g_stocks * final_r1g_price\n",
    "final_r1v_value = r1v_stocks * final_r1v_price\n",
    "final_investment_value_strategy_1 = final_r1g_value + final_r1v_value\n",
    "\n",
    "# Displaying the calculated final investment value after applying the strategy\n",
    "final_investment_value_strategy_1"
   ]
  },
  {
   "cell_type": "markdown",
   "metadata": {},
   "source": [
    "##### Maximum Drawdown Strategy 1"
   ]
  },
  {
   "cell_type": "code",
   "execution_count": 22,
   "metadata": {},
   "outputs": [],
   "source": [
    "strategy_portfolio_df = pd.DataFrame(portfolio_values, columns=['Portfolio Value'])\n",
    "strategy_portfolio_df['Max Portfolio Value'] = strategy_portfolio_df['Portfolio Value'].cummax()\n",
    "strategy_portfolio_df['Drawdown'] = strategy_portfolio_df['Max Portfolio Value'] - strategy_portfolio_df['Portfolio Value']"
   ]
  },
  {
   "cell_type": "code",
   "execution_count": 23,
   "metadata": {},
   "outputs": [
    {
     "data": {
      "text/plain": [
       "72309.56478899252"
      ]
     },
     "execution_count": 23,
     "metadata": {},
     "output_type": "execute_result"
    }
   ],
   "source": [
    "s1_sharpe = strategy_portfolio_df['Drawdown'].max()"
   ]
  },
  {
   "cell_type": "markdown",
   "metadata": {},
   "source": []
  },
  {
   "cell_type": "markdown",
   "metadata": {},
   "source": [
    "##### sharpe S1"
   ]
  },
  {
   "cell_type": "code",
   "execution_count": 24,
   "metadata": {},
   "outputs": [],
   "source": [
    "strategy_portfolio_df[\"periodic_return\"] = strategy_portfolio_df[\"Portfolio Value\"].shift(1)\n",
    "strategy_portfolio_df[\"periodic_return\"] = (strategy_portfolio_df[\"Portfolio Value\"] / strategy_portfolio_df[\"periodic_return\"]) - 1\n",
    "strategy_portfolio_df[\"periodic_return\"].fillna(0, inplace=True)"
   ]
  },
  {
   "cell_type": "code",
   "execution_count": 25,
   "metadata": {},
   "outputs": [
    {
     "data": {
      "text/plain": [
       "-1.0617632506299766"
      ]
     },
     "execution_count": 25,
     "metadata": {},
     "output_type": "execute_result"
    }
   ],
   "source": [
    "sharpe(strategy_portfolio_df[\"periodic_return\"],0.05)"
   ]
  },
  {
   "cell_type": "markdown",
   "metadata": {},
   "source": [
    "### strategy #2: dynamic trend following strategy, turning point weighting "
   ]
  },
  {
   "cell_type": "code",
   "execution_count": 33,
   "metadata": {},
   "outputs": [
    {
     "data": {
      "text/plain": [
       "Date\n",
       "1991-02-28    0.019747\n",
       "1991-03-31    0.016586\n",
       "1991-04-30    0.016469\n",
       "1991-05-31   -0.005468\n",
       "1991-06-30   -0.012955\n",
       "                ...   \n",
       "2023-08-31   -0.006875\n",
       "2023-09-30    0.013305\n",
       "2023-10-31    0.023219\n",
       "2023-11-30    0.029287\n",
       "2023-12-31   -0.010064\n",
       "Freq: ME, Name: ratio, Length: 395, dtype: float64"
      ]
     },
     "execution_count": 33,
     "metadata": {},
     "output_type": "execute_result"
    }
   ],
   "source": [
    "monthly_ratio_pct_change"
   ]
  },
  {
   "cell_type": "code",
   "execution_count": 29,
   "metadata": {},
   "outputs": [
    {
     "data": {
      "text/html": [
       "<div>\n",
       "<style scoped>\n",
       "    .dataframe tbody tr th:only-of-type {\n",
       "        vertical-align: middle;\n",
       "    }\n",
       "\n",
       "    .dataframe tbody tr th {\n",
       "        vertical-align: top;\n",
       "    }\n",
       "\n",
       "    .dataframe thead th {\n",
       "        text-align: right;\n",
       "    }\n",
       "</style>\n",
       "<table border=\"1\" class=\"dataframe\">\n",
       "  <thead>\n",
       "    <tr style=\"text-align: right;\">\n",
       "      <th></th>\n",
       "      <th>Date</th>\n",
       "      <th>return</th>\n",
       "      <th>R1G value</th>\n",
       "      <th>R1V value</th>\n",
       "      <th>Market condition</th>\n",
       "      <th>Portfolio Value</th>\n",
       "      <th>Max Portfolio Value</th>\n",
       "      <th>Drawdown</th>\n",
       "      <th>periodic_return</th>\n",
       "    </tr>\n",
       "  </thead>\n",
       "  <tbody>\n",
       "    <tr>\n",
       "      <th>0</th>\n",
       "      <td>1992-01</td>\n",
       "      <td>-0.000273</td>\n",
       "      <td>140.265455</td>\n",
       "      <td>125.987727</td>\n",
       "      <td>Bull</td>\n",
       "      <td>10000.000000</td>\n",
       "      <td>10000.000000</td>\n",
       "      <td>0.000000</td>\n",
       "      <td>0.000000</td>\n",
       "    </tr>\n",
       "    <tr>\n",
       "      <th>1</th>\n",
       "      <td>1992-02</td>\n",
       "      <td>-0.025701</td>\n",
       "      <td>138.233684</td>\n",
       "      <td>127.437368</td>\n",
       "      <td>Bull</td>\n",
       "      <td>9985.105147</td>\n",
       "      <td>10000.000000</td>\n",
       "      <td>14.894853</td>\n",
       "      <td>-0.001489</td>\n",
       "    </tr>\n",
       "    <tr>\n",
       "      <th>2</th>\n",
       "      <td>1992-03</td>\n",
       "      <td>-0.014588</td>\n",
       "      <td>135.758182</td>\n",
       "      <td>126.999091</td>\n",
       "      <td>Correction</td>\n",
       "      <td>9879.468007</td>\n",
       "      <td>10000.000000</td>\n",
       "      <td>120.531993</td>\n",
       "      <td>-0.010579</td>\n",
       "    </tr>\n",
       "    <tr>\n",
       "      <th>3</th>\n",
       "      <td>1992-04</td>\n",
       "      <td>-0.013197</td>\n",
       "      <td>134.451905</td>\n",
       "      <td>127.499048</td>\n",
       "      <td>Correction</td>\n",
       "      <td>9852.745031</td>\n",
       "      <td>10000.000000</td>\n",
       "      <td>147.254969</td>\n",
       "      <td>-0.002705</td>\n",
       "    </tr>\n",
       "    <tr>\n",
       "      <th>4</th>\n",
       "      <td>1992-05</td>\n",
       "      <td>-0.026263</td>\n",
       "      <td>135.535000</td>\n",
       "      <td>131.949500</td>\n",
       "      <td>Bear</td>\n",
       "      <td>10067.976254</td>\n",
       "      <td>10067.976254</td>\n",
       "      <td>0.000000</td>\n",
       "      <td>0.021845</td>\n",
       "    </tr>\n",
       "  </tbody>\n",
       "</table>\n",
       "</div>"
      ],
      "text/plain": [
       "      Date    return   R1G value   R1V value Market condition  \\\n",
       "0  1992-01 -0.000273  140.265455  125.987727             Bull   \n",
       "1  1992-02 -0.025701  138.233684  127.437368             Bull   \n",
       "2  1992-03 -0.014588  135.758182  126.999091       Correction   \n",
       "3  1992-04 -0.013197  134.451905  127.499048       Correction   \n",
       "4  1992-05 -0.026263  135.535000  131.949500             Bear   \n",
       "\n",
       "   Portfolio Value  Max Portfolio Value    Drawdown  periodic_return  \n",
       "0     10000.000000         10000.000000    0.000000         0.000000  \n",
       "1      9985.105147         10000.000000   14.894853        -0.001489  \n",
       "2      9879.468007         10000.000000  120.531993        -0.010579  \n",
       "3      9852.745031         10000.000000  147.254969        -0.002705  \n",
       "4     10067.976254         10067.976254    0.000000         0.021845  "
      ]
     },
     "execution_count": 29,
     "metadata": {},
     "output_type": "execute_result"
    }
   ],
   "source": [
    "return_df= monthly_ratio_pct_change.to_frame(name='return')\n",
    "return_df.reset_index(inplace=True)\n",
    "return_df['Date'] = return_df['Date'].dt.strftime('%Y-%m')\n",
    "return_df['Date'] = pd.to_datetime(return_df['Date']).dt.to_period('M') \n",
    "dynamic_df = pd.merge(return_df, merged_df, on='Date')\n",
    "dynamic_df.rename(columns={0: 'Market condition'}, inplace=True)\n",
    "dynamic_df.head(5)"
   ]
  },
  {
   "cell_type": "code",
   "execution_count": 30,
   "metadata": {},
   "outputs": [
    {
     "data": {
      "text/html": [
       "<div>\n",
       "<style scoped>\n",
       "    .dataframe tbody tr th:only-of-type {\n",
       "        vertical-align: middle;\n",
       "    }\n",
       "\n",
       "    .dataframe tbody tr th {\n",
       "        vertical-align: top;\n",
       "    }\n",
       "\n",
       "    .dataframe thead th {\n",
       "        text-align: right;\n",
       "    }\n",
       "</style>\n",
       "<table border=\"1\" class=\"dataframe\">\n",
       "  <thead>\n",
       "    <tr style=\"text-align: right;\">\n",
       "      <th></th>\n",
       "      <th>Date</th>\n",
       "      <th>return</th>\n",
       "      <th>R1G value</th>\n",
       "      <th>R1V value</th>\n",
       "      <th>Market condition</th>\n",
       "      <th>Portfolio Value</th>\n",
       "      <th>Max Portfolio Value</th>\n",
       "      <th>Drawdown</th>\n",
       "      <th>periodic_return</th>\n",
       "      <th>Return Correction</th>\n",
       "      <th>Return Rebound</th>\n",
       "    </tr>\n",
       "  </thead>\n",
       "  <tbody>\n",
       "    <tr>\n",
       "      <th>0</th>\n",
       "      <td>1992-01</td>\n",
       "      <td>-0.000273</td>\n",
       "      <td>140.265455</td>\n",
       "      <td>125.987727</td>\n",
       "      <td>Bull</td>\n",
       "      <td>10000.000000</td>\n",
       "      <td>10000.000000</td>\n",
       "      <td>0.000000</td>\n",
       "      <td>0.000000</td>\n",
       "      <td>&lt;NA&gt;</td>\n",
       "      <td>&lt;NA&gt;</td>\n",
       "    </tr>\n",
       "    <tr>\n",
       "      <th>1</th>\n",
       "      <td>1992-02</td>\n",
       "      <td>-0.025701</td>\n",
       "      <td>138.233684</td>\n",
       "      <td>127.437368</td>\n",
       "      <td>Bull</td>\n",
       "      <td>9985.105147</td>\n",
       "      <td>10000.000000</td>\n",
       "      <td>14.894853</td>\n",
       "      <td>-0.001489</td>\n",
       "      <td>&lt;NA&gt;</td>\n",
       "      <td>&lt;NA&gt;</td>\n",
       "    </tr>\n",
       "    <tr>\n",
       "      <th>2</th>\n",
       "      <td>1992-03</td>\n",
       "      <td>-0.014588</td>\n",
       "      <td>135.758182</td>\n",
       "      <td>126.999091</td>\n",
       "      <td>Correction</td>\n",
       "      <td>9879.468007</td>\n",
       "      <td>10000.000000</td>\n",
       "      <td>120.531993</td>\n",
       "      <td>-0.010579</td>\n",
       "      <td>-0.014588</td>\n",
       "      <td>&lt;NA&gt;</td>\n",
       "    </tr>\n",
       "    <tr>\n",
       "      <th>3</th>\n",
       "      <td>1992-04</td>\n",
       "      <td>-0.013197</td>\n",
       "      <td>134.451905</td>\n",
       "      <td>127.499048</td>\n",
       "      <td>Correction</td>\n",
       "      <td>9852.745031</td>\n",
       "      <td>10000.000000</td>\n",
       "      <td>147.254969</td>\n",
       "      <td>-0.002705</td>\n",
       "      <td>-0.013893</td>\n",
       "      <td>&lt;NA&gt;</td>\n",
       "    </tr>\n",
       "    <tr>\n",
       "      <th>4</th>\n",
       "      <td>1992-05</td>\n",
       "      <td>-0.026263</td>\n",
       "      <td>135.535000</td>\n",
       "      <td>131.949500</td>\n",
       "      <td>Bear</td>\n",
       "      <td>10067.976254</td>\n",
       "      <td>10067.976254</td>\n",
       "      <td>0.000000</td>\n",
       "      <td>0.021845</td>\n",
       "      <td>&lt;NA&gt;</td>\n",
       "      <td>&lt;NA&gt;</td>\n",
       "    </tr>\n",
       "  </tbody>\n",
       "</table>\n",
       "</div>"
      ],
      "text/plain": [
       "      Date    return   R1G value   R1V value Market condition  \\\n",
       "0  1992-01 -0.000273  140.265455  125.987727             Bull   \n",
       "1  1992-02 -0.025701  138.233684  127.437368             Bull   \n",
       "2  1992-03 -0.014588  135.758182  126.999091       Correction   \n",
       "3  1992-04 -0.013197  134.451905  127.499048       Correction   \n",
       "4  1992-05 -0.026263  135.535000  131.949500             Bear   \n",
       "\n",
       "   Portfolio Value  Max Portfolio Value    Drawdown  periodic_return  \\\n",
       "0     10000.000000         10000.000000    0.000000         0.000000   \n",
       "1      9985.105147         10000.000000   14.894853        -0.001489   \n",
       "2      9879.468007         10000.000000  120.531993        -0.010579   \n",
       "3      9852.745031         10000.000000  147.254969        -0.002705   \n",
       "4     10067.976254         10067.976254    0.000000         0.021845   \n",
       "\n",
       "  Return Correction Return Rebound  \n",
       "0              <NA>           <NA>  \n",
       "1              <NA>           <NA>  \n",
       "2         -0.014588           <NA>  \n",
       "3         -0.013893           <NA>  \n",
       "4              <NA>           <NA>  "
      ]
     },
     "execution_count": 30,
     "metadata": {},
     "output_type": "execute_result"
    }
   ],
   "source": [
    "# Initialize new columns with NaN values\n",
    "dynamic_df['Return Correction'] = pd.NA\n",
    "dynamic_df['Return Rebound'] = pd.NA\n",
    "\n",
    "# Calculate 'Return Correction'\n",
    "correction_mask = dynamic_df['Market condition'] == 'Correction'\n",
    "dynamic_df.loc[correction_mask, 'Return Correction'] = dynamic_df.loc[correction_mask, 'return'].expanding().mean()\n",
    "\n",
    "# Calculate 'Return Rebound'\n",
    "rebound_mask = dynamic_df['Market condition'] == 'Rebound'\n",
    "dynamic_df.loc[rebound_mask, 'Return Rebound'] = dynamic_df.loc[rebound_mask, 'return'].expanding().mean()\n",
    "\n",
    "dynamic_df.head(5)\n",
    "\n",
    "\n"
   ]
  },
  {
   "cell_type": "code",
   "execution_count": 31,
   "metadata": {},
   "outputs": [
    {
     "name": "stdout",
     "output_type": "stream",
     "text": [
      "        Date    return    R1G value    R1V value Market condition  \\\n",
      "2    1992-03 -0.014588   135.758182   126.999091       Correction   \n",
      "3    1992-04 -0.013197   134.451905   127.499048       Correction   \n",
      "37   1995-02  0.008395   164.607895   173.125263       Correction   \n",
      "40   1995-05 -0.003373   178.565455   188.883182       Correction   \n",
      "41   1995-06  0.010415   185.472654   194.155472       Correction   \n",
      "..       ...       ...          ...          ...              ...   \n",
      "348  2021-01 -0.008389  2437.227679  1889.074343       Correction   \n",
      "349  2021-02 -0.001175  2502.092645  1941.934692       Correction   \n",
      "350  2021-03 -0.080062  2409.066659  2032.056541       Correction   \n",
      "351  2021-04  0.033260  2593.208698  2116.580824       Correction   \n",
      "362  2022-03 -0.019198  2692.560990  2255.270936       Correction   \n",
      "\n",
      "     Portfolio Value  Max Portfolio Value      Drawdown  periodic_return  \\\n",
      "2        9879.468007         10000.000000    120.531993        -0.010579   \n",
      "3        9852.745031         10000.000000    147.254969        -0.002705   \n",
      "37      12738.446914         12738.446914      0.000000         0.038963   \n",
      "40      13861.362949         13861.362949      0.000000         0.033048   \n",
      "41      14316.820056         14316.820056      0.000000         0.032858   \n",
      "..               ...                  ...           ...              ...   \n",
      "348    161849.683774        161849.683774      0.000000         0.030089   \n",
      "349    166259.742713        166259.742713      0.000000         0.027248   \n",
      "350    166520.285923        166520.285923      0.000000         0.001567   \n",
      "351    176438.806122        176438.806122      0.000000         0.059563   \n",
      "362    185484.499026        199394.021432  13909.522406        -0.010387   \n",
      "\n",
      "    Return Correction Return Rebound  \n",
      "2           -0.014588           <NA>  \n",
      "3           -0.013893           <NA>  \n",
      "37          -0.006463           <NA>  \n",
      "40          -0.005691           <NA>  \n",
      "41           -0.00247           <NA>  \n",
      "..                ...            ...  \n",
      "348          -0.00632           <NA>  \n",
      "349          -0.00624           <NA>  \n",
      "350         -0.007375           <NA>  \n",
      "351          -0.00676           <NA>  \n",
      "362         -0.006945           <NA>  \n",
      "\n",
      "[67 rows x 11 columns]\n"
     ]
    }
   ],
   "source": [
    "matching_entries = dynamic_df[dynamic_df['Market condition'] == 'Correction']\n",
    "print(matching_entries)"
   ]
  },
  {
   "cell_type": "code",
   "execution_count": 32,
   "metadata": {},
   "outputs": [],
   "source": [
    "dynamic_df.to_csv(\"dynamic.csv\", index=False)"
   ]
  },
  {
   "cell_type": "code",
   "execution_count": 33,
   "metadata": {},
   "outputs": [
    {
     "data": {
      "text/plain": [
       "5000.0"
      ]
     },
     "execution_count": 33,
     "metadata": {},
     "output_type": "execute_result"
    }
   ],
   "source": [
    "investment_per_stock"
   ]
  },
  {
   "cell_type": "code",
   "execution_count": 34,
   "metadata": {},
   "outputs": [
    {
     "data": {
      "text/plain": [
       "332170.7273750701"
      ]
     },
     "execution_count": 34,
     "metadata": {},
     "output_type": "execute_result"
    }
   ],
   "source": [
    "initial_investment2 = 10000  # Total initial investment\n",
    "current_cash2 = initial_investment2  # Total cash available for investment\n",
    "r1g_stocks2 = investment_per_stock / initial_r1g_price  # Initial amount of R1G stocks bought\n",
    "r1v_stocks2 = investment_per_stock / initial_r1v_price  # Initial amount of R1V stocks bought\n",
    "alpha= 0.9\n",
    "\n",
    "\n",
    "\n",
    "# Iterating through each row in the dataframe to apply the specified strategy\n",
    "for index, row in dynamic_df.iterrows():\n",
    "    market_condition = row['Market condition']\n",
    "    r1g_price = row['R1G value']\n",
    "    r1v_price = row['R1V value']\n",
    "    \n",
    "    if market_condition == 'Bull':\n",
    "        # Buy all R1G and sell all R1V\n",
    "        current_cash2= r1v_stocks2  * r1v_price\n",
    "        r1v_stocks2 = 0  # Sell all R1V\n",
    "        r1g_stocks2 += current_cash2  / r1g_price  # Buy R1G with all cash\n",
    "        \n",
    "    elif market_condition == 'Bear':\n",
    "        current_cash2= r1g_stocks2 * r1g_price\n",
    "        r1g_stocks2 = 0  # Sell all R1G\n",
    "        r1v_stocks2 += current_cash2 / r1v_price  # Buy R1V with all cash\n",
    "        \n",
    "    elif market_condition == 'Correction':\n",
    "        # Adjust holdings based on the return correction\n",
    "        return_correction = row['Return Correction']\n",
    "        current_cash2= r1v_stocks2* r1v_price + r1g_stocks2 * r1g_price\n",
    "        r1g_stocks2=0\n",
    "        r1v_stocks2=0\n",
    "        if return_correction < 0:\n",
    "            # 70% R1V and 30% R1G\n",
    "            r1v_stocks2 += alpha * current_cash2 / r1v_price\n",
    "            r1g_stocks2 += (1-alpha) * current_cash2 / r1g_price\n",
    "        else:\n",
    "            # 30% R1V and 70% R1G\n",
    "            r1v_stocks2 += (1-alpha) * current_cash2 / r1v_price\n",
    "            r1g_stocks2 = alpha * current_cash2 / r1g_price\n",
    "            \n",
    "    elif market_condition == 'Rebound':\n",
    "        # Adjust holdings based on the return rebound\n",
    "        return_rebound = row['Return Rebound']\n",
    "        current_cash2= r1v_stocks2* r1v_price + r1g_stocks2 * r1g_price\n",
    "        r1g_stocks2=0\n",
    "        r1v_stocks2=0\n",
    "        if return_rebound < 0:\n",
    "            # 30% R1G and 70% R1V\n",
    "            r1v_stocks2 = alpha * current_cash2 / r1v_price\n",
    "            r1g_stocks2 = (1-alpha) * current_cash2 / r1g_price\n",
    "            current_cash2=0\n",
    "        else:\n",
    "            # 70% R1G and 30% R1V\n",
    "            r1v_stocks2 = (1-alpha) * current_cash2 / r1v_price\n",
    "            r1g_stocks2 = alpha * current_cash2 / r1g_price\n",
    "            current_cash2=0\n",
    "\n",
    "\n",
    "# Calculate final value of investments\n",
    "final_cash =  r1v_stocks2 * final_r1g_price + r1g_stocks2 * final_r1v_price\n",
    "\n",
    "final_cash"
   ]
  },
  {
   "cell_type": "markdown",
   "metadata": {},
   "source": [
    "##### MDD S2 new"
   ]
  },
  {
   "cell_type": "code",
   "execution_count": 35,
   "metadata": {},
   "outputs": [
    {
     "data": {
      "text/plain": [
       "(437066.9369903773, 88352.39647144172)"
      ]
     },
     "execution_count": 35,
     "metadata": {},
     "output_type": "execute_result"
    }
   ],
   "source": [
    "initial_investment2 = 10000 \n",
    "current_cash2 = initial_investment2  \n",
    "investment_per_stock2 = initial_investment2 / 2  \n",
    "r1g_stocks2 = investment_per_stock / initial_r1g_price  \n",
    "r1v_stocks2 = investment_per_stock / initial_r1v_price  \n",
    "alpha = 0.9  \n",
    "\n",
    "\n",
    "portfolio_values2 = [] \n",
    "\n",
    "for index, row in dynamic_df.iterrows():\n",
    "    market_condition = row['Market condition']\n",
    "    r1g_price = row['R1G value']\n",
    "    r1v_price = row['R1V value']\n",
    "    \n",
    "    if market_condition == 'Bull':\n",
    "        current_cash2= r1v_stocks2  * r1v_price\n",
    "        r1v_stocks2 = 0\n",
    "        r1g_stocks2 += current_cash2  / r1g_price\n",
    "        \n",
    "    elif market_condition == 'Bear':\n",
    "        current_cash2= r1g_stocks2 * r1g_price\n",
    "        r1g_stocks2 = 0\n",
    "        r1v_stocks2 += current_cash2 / r1v_price\n",
    "        \n",
    "    elif market_condition == 'Correction':\n",
    "        return_correction = row['Return Correction']\n",
    "        current_cash2= r1v_stocks2 * r1v_price + r1g_stocks2 * r1g_price\n",
    "        r1g_stocks2 = 0\n",
    "        r1v_stocks2 = 0\n",
    "        r1v_stocks2 += alpha * current_cash2 / r1v_price\n",
    "        r1g_stocks2 += (1-alpha) * current_cash2 / r1g_price\n",
    "            \n",
    "    elif market_condition == 'Rebound':\n",
    "        return_rebound = row['Return Rebound']\n",
    "        current_cash2= r1v_stocks2 * r1v_price + r1g_stocks2 * r1g_price\n",
    "        r1g_stocks2 = 0\n",
    "        r1v_stocks2 = 0\n",
    "        r1v_stocks2 = (1-alpha) * current_cash2 / r1v_price\n",
    "        r1g_stocks2 = alpha * current_cash2 / r1g_price\n",
    "\n",
    "\n",
    "    portfolio_value2 = (r1g_stocks2 * r1g_price) + (r1v_stocks2 * r1v_price)\n",
    "    portfolio_values2.append(portfolio_value2)\n",
    "\n",
    "\n",
    "strategy_portfolio_df2 = pd.DataFrame(portfolio_values2, columns=['Portfolio Value'])\n",
    "strategy_portfolio_df2['Max Portfolio Value'] = strategy_portfolio_df2['Portfolio Value'].cummax()\n",
    "strategy_portfolio_df2['Drawdown'] = strategy_portfolio_df2['Max Portfolio Value'] - strategy_portfolio_df2['Portfolio Value']\n",
    "\n",
    "\n",
    "mdd_strategy2 = strategy_portfolio_df2['Drawdown'].max()\n",
    "final_investment_value_strategy2 = strategy_portfolio_df2['Portfolio Value'].iloc[-1]\n",
    "\n",
    "final_investment_value_strategy2, mdd_strategy2"
   ]
  },
  {
   "cell_type": "code",
   "execution_count": 36,
   "metadata": {},
   "outputs": [],
   "source": [
    "strategy_portfolio_df2[\"periodic_return\"] = strategy_portfolio_df2[\"Portfolio Value\"].shift(1)\n",
    "strategy_portfolio_df2[\"periodic_return\"] = (strategy_portfolio_df2[\"Portfolio Value\"] / strategy_portfolio_df2[\"periodic_return\"]) - 1\n",
    "strategy_portfolio_df2[\"periodic_return\"].fillna(0, inplace=True)\n",
    "s2_sharpe = sharpe(strategy_portfolio_df2[\"periodic_return\"],0.05)"
   ]
  },
  {
   "cell_type": "code",
   "execution_count": 37,
   "metadata": {},
   "outputs": [
    {
     "data": {
      "text/plain": [
       "-1.100144477754819"
      ]
     },
     "execution_count": 37,
     "metadata": {},
     "output_type": "execute_result"
    }
   ],
   "source": [
    "s2_sharpe"
   ]
  }
 ],
 "metadata": {
  "kernelspec": {
   "display_name": "base",
   "language": "python",
   "name": "python3"
  },
  "language_info": {
   "codemirror_mode": {
    "name": "ipython",
    "version": 3
   },
   "file_extension": ".py",
   "mimetype": "text/x-python",
   "name": "python",
   "nbconvert_exporter": "python",
   "pygments_lexer": "ipython3",
   "version": "3.11.3"
  }
 },
 "nbformat": 4,
 "nbformat_minor": 2
}
